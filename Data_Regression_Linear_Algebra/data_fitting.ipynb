{
 "cells": [
  {
   "cell_type": "code",
   "execution_count": 59,
   "metadata": {
    "collapsed": false
   },
   "outputs": [
    {
     "name": "stdout",
     "output_type": "stream",
     "text": [
      "[ 0.05350564  0.37509893  2.97712945]\n"
     ]
    },
    {
     "data": {
      "image/png": "[encoded data removed]",
      "text/plain": [
       "<matplotlib.figure.Figure at 0x2d3f40523c8>"
      ]
     },
     "metadata": {},
     "output_type": "display_data"
    }
   ],
   "source": [
    "import numpy as np\n",
    "from matplotlib import pyplot as plt\n",
    "\n",
    "def det(A):\n",
    "    row_num = len(A)\n",
    "    col_num = len(A[0])\n",
    "    if row_num != col_num:\n",
    "        return 0\n",
    "    if col_num == 1:\n",
    "        return A[0][0]\n",
    "    elif col_num == 2:\n",
    "        return A[0][0] * A[1][1] - A[0][1] * A[1][0]\n",
    "    det_value = 0\n",
    "    for col in range(col_num):\n",
    "        C = np.delete(np.delete(A, 0, 1), col, 0) #刪除第一行第col列\n",
    "        det_value += pow(-1, 1+(col+1)) * A[0][col] * det(C)\n",
    "    return det_value\n",
    "\n",
    "def isInvertible(A):\n",
    "    if(det(A) != 0):\n",
    "        return True\n",
    "    else:\n",
    "        return False\n",
    "\n",
    "def gauss_elimination(A):\n",
    "    row_num = len(A)\n",
    "    col_num = len(A[0])\n",
    "    cur_row = 0\n",
    "    for cur_col in range(min(row_num, col_num)):\n",
    "        max_row = np.argmax(A[cur_row:, cur_col]) + cur_row\n",
    "        A[[cur_row, max_row], :] = A[[max_row, cur_row], :]  # cur_row與max_row互換\n",
    "        if A[cur_row][cur_col] == 0:\n",
    "            continue\n",
    "        A[cur_row, :] = A[cur_row, :] / [A[cur_row][cur_col]] #整列除以最前方最大數\n",
    "        for remain_row in range(row_num):\n",
    "            if remain_row != cur_row:\n",
    "                A[remain_row, :] = A[remain_row, :] - A[remain_row, cur_col] * A[cur_row, :]\n",
    "        cur_row += 1\n",
    "    return A\n",
    "\n",
    "def inverse_matrix(A):\n",
    "    if isInvertible(A) == False:\n",
    "        return None\n",
    "    row_num = col_num = len(A) #方陣\n",
    "    argumented_matrix = np.hstack((A, np.identity(row_num)))\n",
    "    g_e_A = gauss_elimination(argumented_matrix)\n",
    "    return g_e_A[:, col_num:]\n",
    "\n",
    "def init_vector(v):\n",
    "    for i in range(len(v)):\n",
    "        v[i] = np.random.randint(1,10,[1, len(v)])\n",
    "    return v\n",
    "\n",
    "def find_orthonormal_vector(v):\n",
    "    w = np.zeros((len(v), len(v)))\n",
    "    w[:, 0] = v[:, 0]\n",
    "    for n in range(1, len(v)):\n",
    "        v_project = np.zeros((1, len(v)))\n",
    "        for i in range(0, n):\n",
    "            v_project += np.sum(np.multiply(v[:, n], w[:, i])) / np.sum(w[:, i] ** 2) * w[:, i]\n",
    "        w[:, n] = v[:, n] - v_project\n",
    "    return w\n",
    "\n",
    "def isLinearIndepent(v):\n",
    "    if len(v) != len(v[0]):\n",
    "        return False\n",
    "    g_e_v = gauss_elimination(v)\n",
    "    if(np.array_equal(g_e_v, np.identity(len(v)))):\n",
    "        return True\n",
    "    else:\n",
    "        return False\n",
    "\n",
    "def data_fitting(data, P=1):\n",
    "    data_x = data[:, 0]\n",
    "    A = np.zeros((len(data), P + 1))\n",
    "    b = data[:, 1]\n",
    "    x0 = np.zeros((len(data)))\n",
    "    for i in range(P + 1):\n",
    "        cur_col = P - i\n",
    "        A[:, cur_col] = np.power(data_x, i)\n",
    "    Aadj = A.T.conjugate()\n",
    "    Aadj_A = np.dot(Aadj, A)\n",
    "    if not isInvertible(Aadj_A):\n",
    "        print('cant invertible')\n",
    "    else:\n",
    "        Aadj_A_inv = inverse_matrix(Aadj_A)\n",
    "        x0 =  np.dot(np.dot(Aadj_A_inv, Aadj), b)\n",
    "    return x0\n",
    "\n",
    "def draw_picture(data, P):\n",
    "    data_x = data[:, 0]\n",
    "    coefficient = data_fitting(data, P)\n",
    "    print(coefficient)\n",
    "    x = np.linspace(min(data_x), max(data_x)+1)    \n",
    "    y = 0    \n",
    "    for i in range(P+1):\n",
    "        y =  y + pow(x, P-i) * coefficient[i]\n",
    "\n",
    "    plt.figure()\n",
    "    plt.scatter(data[:,0], data[:,1])\n",
    "    plt.plot(x, y)\n",
    "    plt.show()\n",
    "\n",
    "    \n",
    "A = np.array(([1,2,3],\n",
    "             [4,20,14],\n",
    "             [7,8,11]))\n",
    "\n",
    "v = np.array([[1,0,0,10],[9,5,0,8] ,[1,0,1,4],[0,2,3,4]], dtype=float).T\n",
    "find_orthonormal_vector(v)\n",
    "data = np.array([(1, 2), (3, 7), (4, 6), (5, 5), (7, 8), (10, 11),(12, 16)])\n",
    "draw_picture(data, 2)"
   ]
  },
  {
   "cell_type": "code",
   "execution_count": null,
   "metadata": {
    "collapsed": true
   },
   "outputs": [],
   "source": [
    ""
   ]
  }
 ],
 "metadata": {
  "kernelspec": {
   "display_name": "Python 3",
   "language": "python",
   "name": "python3"
  },
  "language_info": {
   "codemirror_mode": {
    "name": "ipython",
    "version": 3.0
   },
   "file_extension": ".py",
   "mimetype": "text/x-python",
   "name": "python",
   "nbconvert_exporter": "python",
   "pygments_lexer": "ipython3",
   "version": "3.6.0"
  }
 },
 "nbformat": 4,
 "nbformat_minor": 0
}